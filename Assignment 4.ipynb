{
 "cells": [
  {
   "cell_type": "code",
   "execution_count": null,
   "id": "f676ef79",
   "metadata": {},
   "outputs": [],
   "source": [
    "1. What exactly is []?\n",
    "\n",
    "The empty list value, which is a list value that contains no items. This is similar to how '' is the empty string value.\n"
   ]
  },
  {
   "cell_type": "code",
   "execution_count": null,
   "id": "b1ea215d",
   "metadata": {},
   "outputs": [],
   "source": [
    "2. In a list of values stored in a variable called spam, how would you assign the value 'hello' as the third value? \n",
    "(Assume [2, 4, 6, 8, 10] are in spam.)\n",
    "\n",
    "spam[2] = 'hello' (Notice that the third value in a list is at index 2 because the first index is 0.)\n"
   ]
  },
  {
   "cell_type": "code",
   "execution_count": null,
   "id": "a39117bd",
   "metadata": {},
   "outputs": [],
   "source": [
    "Let's pretend the spam includes the list ['a', 'b', 'c', 'd'] for the next three queries.\n",
    "3. What is the value of spam[int(int('3' * 2) / 11)]?\n",
    "\n",
    "'d' (Note that '3' * 2 is the string '33', which is passed to int() before being divided by 11. \n",
    "This eventually evaluates to 3. Expressions can be used wherever values are used.)"
   ]
  },
  {
   "cell_type": "code",
   "execution_count": null,
   "id": "bc97dabc",
   "metadata": {},
   "outputs": [],
   "source": [
    "4. What is the value of spam[-1]?\n",
    "\n",
    "'d' (Negative indexes count from the end.)"
   ]
  },
  {
   "cell_type": "code",
   "execution_count": null,
   "id": "a206a61f",
   "metadata": {},
   "outputs": [],
   "source": [
    "5. What is the value of spam[:2]?\n",
    "\n",
    "['a', 'b']\n"
   ]
  },
  {
   "cell_type": "code",
   "execution_count": null,
   "id": "71f68c79",
   "metadata": {},
   "outputs": [],
   "source": [
    "Let's pretend bacon has the list [3.14, 'cat,' 11, 'cat,' True] for the next three questions.\n",
    "6. What is the value of bacon.index('cat')?\n",
    "\n",
    "1\n"
   ]
  },
  {
   "cell_type": "code",
   "execution_count": null,
   "id": "a7bc2455",
   "metadata": {},
   "outputs": [],
   "source": [
    "7. How does bacon.append(99) change the look of the list value in bacon?\n",
    "\n",
    "[3.14, 'cat', 11, 'cat', True, 99]\n"
   ]
  },
  {
   "cell_type": "code",
   "execution_count": null,
   "id": "deb1c00c",
   "metadata": {},
   "outputs": [],
   "source": [
    "8. How does bacon.remove('cat') change the look of the list in bacon?\n",
    "\n",
    "[3.14, 11, 'cat', True]\n"
   ]
  },
  {
   "cell_type": "code",
   "execution_count": null,
   "id": "94cf9d29",
   "metadata": {},
   "outputs": [],
   "source": [
    "9. What are the list concatenation and list replication operators?\n",
    "\n",
    "The operator for list concatenation is +, while the operator for replication is *. (This is the same as for strings.)\n"
   ]
  },
  {
   "cell_type": "code",
   "execution_count": null,
   "id": "d90a80a9",
   "metadata": {},
   "outputs": [],
   "source": [
    "10. What is difference between the list methods append() and insert()?\n",
    "\n",
    "While append() will add values only to the end of a list, insert() can add them anywhere in the list.\n"
   ]
  },
  {
   "cell_type": "code",
   "execution_count": null,
   "id": "3994c6b6",
   "metadata": {},
   "outputs": [],
   "source": [
    "11. What are the two methods for removing items from a list?\n",
    "\n",
    "The methods are remove(), pop() and clear(). It helps to remove the very first given element matching from the list. \n",
    "The pop() method removes an element from the list based on the index given. \n",
    "The clear() method will remove all the elements present in the list.\n"
   ]
  },
  {
   "cell_type": "code",
   "execution_count": null,
   "id": "e0aff555",
   "metadata": {},
   "outputs": [],
   "source": [
    "12. Describe how list values and string values are identical.\n",
    "\n",
    "The values that make up a list are called its elements. Lists are similar to strings, \n",
    "which are ordered collections of characters, except that the elements of a list can have any type and for any one list,\n",
    "the items can be of different types.\n"
   ]
  },
  {
   "cell_type": "code",
   "execution_count": null,
   "id": "81c045c5",
   "metadata": {},
   "outputs": [],
   "source": [
    "13. What's the difference between tuples and lists?\n",
    "\n",
    "The list is dynamic, whereas the tuple has static characteristics. \n",
    "This means that lists can be modified whereas tuples cannot be modified, \n",
    "the tuple is faster than the list because of static in nature. \n",
    "Lists are denoted by the square brackets but tuples are denoted as parenthesis.\n"
   ]
  },
  {
   "cell_type": "code",
   "execution_count": null,
   "id": "522496b3",
   "metadata": {},
   "outputs": [],
   "source": [
    "14. How do you type a tuple value that only contains the integer 42?\n",
    "\n",
    "(42,) (The trailing comma is mandatory.)\n"
   ]
  },
  {
   "cell_type": "code",
   "execution_count": null,
   "id": "3caa5d07",
   "metadata": {},
   "outputs": [],
   "source": [
    "15. How do you get a list value's tuple form? How do you get a tuple value's list form?\n",
    "\n",
    "Using the zip() function we can create a list of tuples from n lists\n",
    "\n",
    "Using the tuple() built-in function\n",
    "\n",
    "An iterable can be passed as an input to the tuple () function, which will convert it to a tuple object. \n",
    "If you want to convert a Python list to a tuple, \n",
    "you can use the tuple() function to pass the full list as an argument, and it will return the tuple data type as an output.\n"
   ]
  },
  {
   "cell_type": "code",
   "execution_count": null,
   "id": "668b4cce",
   "metadata": {},
   "outputs": [],
   "source": [
    "16. Variables that \"contain\" list values are not necessarily lists themselves. Instead, what do they contain?\n",
    "\n",
    "Variables will contain references to list values rather than list values themselves. \n",
    "But for strings and integer values, variables simply contain the string or integer value."
   ]
  },
  {
   "cell_type": "code",
   "execution_count": null,
   "id": "f044d8e4",
   "metadata": {},
   "outputs": [],
   "source": [
    "17. How do you distinguish between copy.copy() and copy.deepcopy()?\n",
    "\n",
    "copy() create reference to original object. If you change copied object - you change the original object. \n",
    "deepcopy() creates new object and does real copying of original object to new one. \n",
    "Changing new deepcopied object doesn't affect original object.\n"
   ]
  }
 ],
 "metadata": {
  "kernelspec": {
   "display_name": "Python 3",
   "language": "python",
   "name": "python3"
  },
  "language_info": {
   "codemirror_mode": {
    "name": "ipython",
    "version": 3
   },
   "file_extension": ".py",
   "mimetype": "text/x-python",
   "name": "python",
   "nbconvert_exporter": "python",
   "pygments_lexer": "ipython3",
   "version": "3.8.8"
  }
 },
 "nbformat": 4,
 "nbformat_minor": 5
}
